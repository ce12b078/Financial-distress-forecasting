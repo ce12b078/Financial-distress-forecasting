{
 "cells": [
  {
   "cell_type": "markdown",
   "metadata": {},
   "source": [
    "**Our problem is to forecast the probability that a loan applicant will be experiencing financial distress in next 2 years. In this first code, we will do extensive data pre-processing.**"
   ]
  },
  {
   "cell_type": "code",
   "execution_count": 0,
   "metadata": {
    "colab": {},
    "colab_type": "code",
    "id": "aT5n4wlNO4m2"
   },
   "outputs": [],
   "source": [
    "#Import neccesary packages \n",
    "\n",
    "import pandas as pd\n",
    "import numpy as np\n",
    "import matplotlib.pyplot as plt\n",
    "import os \n",
    "np.set_printoptions(edgeitems=10)\n",
    "np.core.arrayprint._line_width = 180"
   ]
  },
  {
   "cell_type": "code",
   "execution_count": 0,
   "metadata": {
    "colab": {
     "base_uri": "https://localhost:8080/",
     "height": 74,
     "resources": {
      "http://localhost:8080/nbextensions/google.colab/files.js": {
       "data": "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",
       "headers": [
        [
         "content-type",
         "application/javascript"
        ]
       ],
       "ok": true,
       "status": 200,
       "status_text": ""
      }
     }
    },
    "colab_type": "code",
    "id": "iRwKetqWPG9d",
    "outputId": "d7ecb008-8011-446d-be99-e58607da6358"
   },
   "outputs": [
    {
     "data": {
      "text/html": [
       "\n",
       "     <input type=\"file\" id=\"files-1df2cee4-07fa-4eb7-9682-3d346c5be8b9\" name=\"files[]\" multiple disabled />\n",
       "     <output id=\"result-1df2cee4-07fa-4eb7-9682-3d346c5be8b9\">\n",
       "      Upload widget is only available when the cell has been executed in the\n",
       "      current browser session. Please rerun this cell to enable.\n",
       "      </output>\n",
       "      <script src=\"/nbextensions/google.colab/files.js\"></script> "
      ],
      "text/plain": [
       "<IPython.core.display.HTML object>"
      ]
     },
     "metadata": {
      "tags": []
     },
     "output_type": "display_data"
    },
    {
     "name": "stdout",
     "output_type": "stream",
     "text": [
      "Saving cs-training.csv to cs-training (3).csv\n"
     ]
    }
   ],
   "source": [
    "from google.colab import files\n",
    "uploaded = files.upload()"
   ]
  },
  {
   "cell_type": "code",
   "execution_count": 0,
   "metadata": {
    "colab": {
     "base_uri": "https://localhost:8080/",
     "height": 510
    },
    "colab_type": "code",
    "id": "iwxnHd5zO4nF",
    "outputId": "815093fd-01f5-4190-e570-2ae45abd1ba8"
   },
   "outputs": [
    {
     "name": "stdout",
     "output_type": "stream",
     "text": [
      "   Unnamed: 0  ...  NumberOfDependents\n",
      "0           1  ...                 2.0\n",
      "1           2  ...                 1.0\n",
      "2           3  ...                 0.0\n",
      "3           4  ...                 0.0\n",
      "4           5  ...                 0.0\n",
      "\n",
      "[5 rows x 12 columns]\n",
      "Index(['Unnamed: 0', 'SeriousDlqin2yrs',\n",
      "       'RevolvingUtilizationOfUnsecuredLines', 'age',\n",
      "       'NumberOfTime30-59DaysPastDueNotWorse', 'DebtRatio', 'MonthlyIncome',\n",
      "       'NumberOfOpenCreditLinesAndLoans', 'NumberOfTimes90DaysLate',\n",
      "       'NumberRealEstateLoansOrLines', 'NumberOfTime60-89DaysPastDueNotWorse',\n",
      "       'NumberOfDependents'],\n",
      "      dtype='object')\n",
      "(150000, 12)\n",
      "Unnamed: 0                                int64\n",
      "SeriousDlqin2yrs                          int64\n",
      "RevolvingUtilizationOfUnsecuredLines    float64\n",
      "age                                       int64\n",
      "NumberOfTime30-59DaysPastDueNotWorse      int64\n",
      "DebtRatio                               float64\n",
      "MonthlyIncome                           float64\n",
      "NumberOfOpenCreditLinesAndLoans           int64\n",
      "NumberOfTimes90DaysLate                   int64\n",
      "NumberRealEstateLoansOrLines              int64\n",
      "NumberOfTime60-89DaysPastDueNotWorse      int64\n",
      "NumberOfDependents                      float64\n",
      "dtype: object\n"
     ]
    }
   ],
   "source": [
    "#Read in training data set\n",
    "df = pd.read_csv('cs-training (2).csv')\n",
    "\n",
    "#Explore the variables\n",
    "print(df.head())\n",
    "print(df.columns)\n",
    "\n",
    "#Total obersvations\n",
    "print(df.shape)\n",
    "print(df.dtypes)"
   ]
  },
  {
   "cell_type": "markdown",
   "metadata": {
    "colab_type": "text",
    "id": "5NvaCo1JWc8T"
   },
   "source": [
    "**Converting dependent variable to categorical type**"
   ]
  },
  {
   "cell_type": "code",
   "execution_count": 0,
   "metadata": {
    "colab": {},
    "colab_type": "code",
    "id": "RJ-zsgJrO4nN"
   },
   "outputs": [],
   "source": [
    "df.SeriousDlqin2yrs = (df.SeriousDlqin2yrs).astype('category')"
   ]
  },
  {
   "cell_type": "code",
   "execution_count": 0,
   "metadata": {
    "colab": {
     "base_uri": "https://localhost:8080/",
     "height": 334
    },
    "colab_type": "code",
    "id": "La7Z5FsTVJK8",
    "outputId": "f0a9e4c1-e72d-442b-a479-3f3db2f81413"
   },
   "outputs": [
    {
     "data": {
      "text/html": [
       "<div>\n",
       "<style scoped>\n",
       "    .dataframe tbody tr th:only-of-type {\n",
       "        vertical-align: middle;\n",
       "    }\n",
       "\n",
       "    .dataframe tbody tr th {\n",
       "        vertical-align: top;\n",
       "    }\n",
       "\n",
       "    .dataframe thead th {\n",
       "        text-align: right;\n",
       "    }\n",
       "</style>\n",
       "<table border=\"1\" class=\"dataframe\">\n",
       "  <thead>\n",
       "    <tr style=\"text-align: right;\">\n",
       "      <th></th>\n",
       "      <th>Unnamed: 0</th>\n",
       "      <th>RevolvingUtilizationOfUnsecuredLines</th>\n",
       "      <th>age</th>\n",
       "      <th>NumberOfTime30-59DaysPastDueNotWorse</th>\n",
       "      <th>DebtRatio</th>\n",
       "      <th>MonthlyIncome</th>\n",
       "      <th>NumberOfOpenCreditLinesAndLoans</th>\n",
       "      <th>NumberOfTimes90DaysLate</th>\n",
       "      <th>NumberRealEstateLoansOrLines</th>\n",
       "      <th>NumberOfTime60-89DaysPastDueNotWorse</th>\n",
       "      <th>NumberOfDependents</th>\n",
       "    </tr>\n",
       "  </thead>\n",
       "  <tbody>\n",
       "    <tr>\n",
       "      <th>count</th>\n",
       "      <td>150000.000000</td>\n",
       "      <td>150000.000000</td>\n",
       "      <td>150000.000000</td>\n",
       "      <td>150000.000000</td>\n",
       "      <td>150000.000000</td>\n",
       "      <td>1.202690e+05</td>\n",
       "      <td>150000.000000</td>\n",
       "      <td>150000.000000</td>\n",
       "      <td>150000.000000</td>\n",
       "      <td>150000.000000</td>\n",
       "      <td>146076.000000</td>\n",
       "    </tr>\n",
       "    <tr>\n",
       "      <th>mean</th>\n",
       "      <td>75000.500000</td>\n",
       "      <td>6.048438</td>\n",
       "      <td>52.295207</td>\n",
       "      <td>0.421033</td>\n",
       "      <td>353.005076</td>\n",
       "      <td>6.670221e+03</td>\n",
       "      <td>8.452760</td>\n",
       "      <td>0.265973</td>\n",
       "      <td>1.018240</td>\n",
       "      <td>0.240387</td>\n",
       "      <td>0.757222</td>\n",
       "    </tr>\n",
       "    <tr>\n",
       "      <th>std</th>\n",
       "      <td>43301.414527</td>\n",
       "      <td>249.755371</td>\n",
       "      <td>14.771866</td>\n",
       "      <td>4.192781</td>\n",
       "      <td>2037.818523</td>\n",
       "      <td>1.438467e+04</td>\n",
       "      <td>5.145951</td>\n",
       "      <td>4.169304</td>\n",
       "      <td>1.129771</td>\n",
       "      <td>4.155179</td>\n",
       "      <td>1.115086</td>\n",
       "    </tr>\n",
       "    <tr>\n",
       "      <th>min</th>\n",
       "      <td>1.000000</td>\n",
       "      <td>0.000000</td>\n",
       "      <td>0.000000</td>\n",
       "      <td>0.000000</td>\n",
       "      <td>0.000000</td>\n",
       "      <td>0.000000e+00</td>\n",
       "      <td>0.000000</td>\n",
       "      <td>0.000000</td>\n",
       "      <td>0.000000</td>\n",
       "      <td>0.000000</td>\n",
       "      <td>0.000000</td>\n",
       "    </tr>\n",
       "    <tr>\n",
       "      <th>25%</th>\n",
       "      <td>37500.750000</td>\n",
       "      <td>0.029867</td>\n",
       "      <td>41.000000</td>\n",
       "      <td>0.000000</td>\n",
       "      <td>0.175074</td>\n",
       "      <td>3.400000e+03</td>\n",
       "      <td>5.000000</td>\n",
       "      <td>0.000000</td>\n",
       "      <td>0.000000</td>\n",
       "      <td>0.000000</td>\n",
       "      <td>0.000000</td>\n",
       "    </tr>\n",
       "    <tr>\n",
       "      <th>50%</th>\n",
       "      <td>75000.500000</td>\n",
       "      <td>0.154181</td>\n",
       "      <td>52.000000</td>\n",
       "      <td>0.000000</td>\n",
       "      <td>0.366508</td>\n",
       "      <td>5.400000e+03</td>\n",
       "      <td>8.000000</td>\n",
       "      <td>0.000000</td>\n",
       "      <td>1.000000</td>\n",
       "      <td>0.000000</td>\n",
       "      <td>0.000000</td>\n",
       "    </tr>\n",
       "    <tr>\n",
       "      <th>75%</th>\n",
       "      <td>112500.250000</td>\n",
       "      <td>0.559046</td>\n",
       "      <td>63.000000</td>\n",
       "      <td>0.000000</td>\n",
       "      <td>0.868254</td>\n",
       "      <td>8.249000e+03</td>\n",
       "      <td>11.000000</td>\n",
       "      <td>0.000000</td>\n",
       "      <td>2.000000</td>\n",
       "      <td>0.000000</td>\n",
       "      <td>1.000000</td>\n",
       "    </tr>\n",
       "    <tr>\n",
       "      <th>max</th>\n",
       "      <td>150000.000000</td>\n",
       "      <td>50708.000000</td>\n",
       "      <td>109.000000</td>\n",
       "      <td>98.000000</td>\n",
       "      <td>329664.000000</td>\n",
       "      <td>3.008750e+06</td>\n",
       "      <td>58.000000</td>\n",
       "      <td>98.000000</td>\n",
       "      <td>54.000000</td>\n",
       "      <td>98.000000</td>\n",
       "      <td>20.000000</td>\n",
       "    </tr>\n",
       "  </tbody>\n",
       "</table>\n",
       "</div>"
      ],
      "text/plain": [
       "          Unnamed: 0  ...  NumberOfDependents\n",
       "count  150000.000000  ...       146076.000000\n",
       "mean    75000.500000  ...            0.757222\n",
       "std     43301.414527  ...            1.115086\n",
       "min         1.000000  ...            0.000000\n",
       "25%     37500.750000  ...            0.000000\n",
       "50%     75000.500000  ...            0.000000\n",
       "75%    112500.250000  ...            1.000000\n",
       "max    150000.000000  ...           20.000000\n",
       "\n",
       "[8 rows x 11 columns]"
      ]
     },
     "execution_count": 128,
     "metadata": {
      "tags": []
     },
     "output_type": "execute_result"
    }
   ],
   "source": [
    "df.describe()"
   ]
  },
  {
   "cell_type": "code",
   "execution_count": 0,
   "metadata": {
    "colab": {
     "base_uri": "https://localhost:8080/",
     "height": 306
    },
    "colab_type": "code",
    "id": "0I-HG1G1GtV1",
    "outputId": "becd9262-8068-4c23-d925-d2fab71ad473"
   },
   "outputs": [
    {
     "name": "stdout",
     "output_type": "stream",
     "text": [
      "<class 'pandas.core.frame.DataFrame'>\n",
      "RangeIndex: 150000 entries, 0 to 149999\n",
      "Data columns (total 12 columns):\n",
      "Unnamed: 0                              150000 non-null int64\n",
      "SeriousDlqin2yrs                        150000 non-null category\n",
      "RevolvingUtilizationOfUnsecuredLines    150000 non-null float64\n",
      "age                                     150000 non-null int64\n",
      "NumberOfTime30-59DaysPastDueNotWorse    150000 non-null int64\n",
      "DebtRatio                               150000 non-null float64\n",
      "MonthlyIncome                           120269 non-null float64\n",
      "NumberOfOpenCreditLinesAndLoans         150000 non-null int64\n",
      "NumberOfTimes90DaysLate                 150000 non-null int64\n",
      "NumberRealEstateLoansOrLines            150000 non-null int64\n",
      "NumberOfTime60-89DaysPastDueNotWorse    150000 non-null int64\n",
      "NumberOfDependents                      146076 non-null float64\n",
      "dtypes: category(1), float64(4), int64(7)\n",
      "memory usage: 12.7 MB\n"
     ]
    }
   ],
   "source": [
    "df.info()"
   ]
  },
  {
   "cell_type": "markdown",
   "metadata": {
    "colab_type": "text",
    "id": "aU5sW0aXWz_c"
   },
   "source": [
    "**Hence, we have NA in MonthlyIncome and NumberOfDependents**"
   ]
  },
  {
   "cell_type": "code",
   "execution_count": 0,
   "metadata": {
    "colab": {
     "base_uri": "https://localhost:8080/",
     "height": 51
    },
    "colab_type": "code",
    "id": "yWueJKXhV0LB",
    "outputId": "387c432c-4411-461f-b852-846eaf56e3ac"
   },
   "outputs": [
    {
     "name": "stdout",
     "output_type": "stream",
     "text": [
      "percent_miss_MonthlyIncome : 0.2\n",
      "percent_miss_NumberOfDependents : 0.03\n"
     ]
    }
   ],
   "source": [
    "percent_miss_MonthlyIncome = np.round(sum(df['MonthlyIncome'].isna())/df.shape[0],2)\n",
    "percent_miss_NumberOfDependents = np.round(sum(df['NumberOfDependents'].isna())/df.shape[0],2)\n",
    "print('percent_miss_MonthlyIncome : {}'.format(percent_miss_MonthlyIncome))\n",
    "print('percent_miss_NumberOfDependents : {}'.format(percent_miss_NumberOfDependents))"
   ]
  },
  {
   "cell_type": "markdown",
   "metadata": {
    "colab_type": "text",
    "id": "St4jSNgRWDRP"
   },
   "source": [
    "\n",
    "**Dealing with Missing Values\n",
    "We got missing values for Monthly Income and Number of Dependants. \n",
    "Monthly Income only has 80 percent values filled but intuitively, is important to predict credit score. \n",
    "So we will not drop this variable and find the best way to replace nulls.**\n"
   ]
  },
  {
   "cell_type": "markdown",
   "metadata": {
    "colab_type": "text",
    "id": "Jf5mHJ05Xjzo"
   },
   "source": [
    "**In below code, we will subset datas having missing/not missing income and then visualize how other variables are distributed for both subsets**"
   ]
  },
  {
   "cell_type": "code",
   "execution_count": 0,
   "metadata": {
    "colab": {
     "base_uri": "https://localhost:8080/",
     "height": 1000
    },
    "colab_type": "code",
    "id": "f_kDwGhtQJk7",
    "outputId": "cd42cab7-a737-4b7c-8cc3-8d11815bdad2"
   },
   "outputs": [
    {
     "name": "stderr",
     "output_type": "stream",
     "text": [
      "/usr/local/lib/python3.6/dist-packages/ipykernel_launcher.py:17: UserWarning: Tight layout not applied. tight_layout cannot make axes height small enough to accommodate all axes decorations\n"
     ]
    },
    {
     "data": {
      "image/png": "[encoded data removed]",
      "text/plain": [
       "<Figure size 1080x3240 with 18 Axes>"
      ]
     },
     "metadata": {
      "tags": []
     },
     "output_type": "display_data"
    }
   ],
   "source": [
    "df_mis_inc = df[df['MonthlyIncome'].isna()]\n",
    "df_not_mis_inc = df[df['MonthlyIncome'].notna()]\n",
    "varNames = ['RevolvingUtilizationOfUnsecuredLines', 'age', 'NumberOfTime30-59DaysPastDueNotWorse', 'DebtRatio', 'NumberOfOpenCreditLinesAndLoans', 'NumberOfTimes90DaysLate', 'NumberRealEstateLoansOrLines', 'NumberOfTime60-89DaysPastDueNotWorse', 'NumberOfDependents']\n",
    "\n",
    "\n",
    "import numpy as np\n",
    "from statsmodels.distributions.empirical_distribution import ECDF\n",
    "def visualizeECDF( variable,data):\n",
    "    df = data[:] \n",
    "    ecdf = ECDF(df[variable])\n",
    "    x = np.linspace(min(df[variable]), np.percentile(df[variable],99.9))\n",
    "    y = ecdf(x)\n",
    "    plt.step(x, y)\n",
    "\n",
    "np.random.seed(100)\n",
    "fig, axes = plt.subplots(nrows=10, ncols=2)\n",
    "fig.tight_layout()\n",
    "fig.set_figheight(45)\n",
    "fig.set_figwidth(15)\n",
    "\n",
    "plt.subplots_adjust(hspace=0.5)\n",
    "for i in [1,3,5,7,9,11,13,15,17]:\n",
    "  ax = plt.subplot(9,2,i)\n",
    "  ax.set_title(varNames[(i-1)//2])\n",
    "  visualizeECDF(varNames[(i-1)//2], data = df_not_mis_inc)\n",
    "\n",
    "  ax = plt.subplot(9,2,i+1)\n",
    "  ax.set_title(varNames[(i-1)//2])\n",
    "  visualizeECDF(varNames[(i-1)//2], data = df_mis_inc)\n"
   ]
  },
  {
   "cell_type": "markdown",
   "metadata": {
    "colab_type": "text",
    "id": "CxX7aUSLYHdv"
   },
   "source": [
    "**We found that all other variables are having similar distributions for both subsets, except DebtRatio and NumberOfDependents**"
   ]
  },
  {
   "cell_type": "markdown",
   "metadata": {
    "colab_type": "text",
    "id": "XNR7vdhtYpZs"
   },
   "source": [
    "**We will also visualize how DebtRatio is distributed Overall**"
   ]
  },
  {
   "cell_type": "code",
   "execution_count": 0,
   "metadata": {
    "colab": {
     "base_uri": "https://localhost:8080/",
     "height": 282
    },
    "colab_type": "code",
    "id": "vTsoMv0BkTsY",
    "outputId": "501b6f6f-75c1-45fc-f837-9b89c54a1429"
   },
   "outputs": [
    {
     "data": {
      "text/plain": [
       "[<matplotlib.lines.Line2D at 0x7f78903c53c8>]"
      ]
     },
     "execution_count": 132,
     "metadata": {
      "tags": []
     },
     "output_type": "execute_result"
    },
    {
     "data": {
      "image/png": "[encoded data removed]",
      "text/plain": [
       "<Figure size 432x288 with 1 Axes>"
      ]
     },
     "metadata": {
      "tags": []
     },
     "output_type": "display_data"
    }
   ],
   "source": [
    "perc = range(81)\n",
    "val = []\n",
    "for i in perc:\n",
    "  val.append(np.percentile(df['DebtRatio'],i ))\n",
    "\n",
    "import matplotlib.pyplot as plt\n",
    "plt.plot(perc, val, 'go--', linewidth=2, markersize=12)"
   ]
  },
  {
   "cell_type": "markdown",
   "metadata": {
    "colab_type": "text",
    "id": "w-24uvE-Y50c"
   },
   "source": [
    "**In below code and visualization, we will see that DebtRatio of missing income subset has same distribution as top 1 percentile DebtRatio values of other subset**"
   ]
  },
  {
   "cell_type": "code",
   "execution_count": 0,
   "metadata": {
    "colab": {
     "base_uri": "https://localhost:8080/",
     "height": 517
    },
    "colab_type": "code",
    "id": "n_TkFQLmh56w",
    "outputId": "26ef5899-1763-4538-b5e1-97bc4f04da4e"
   },
   "outputs": [
    {
     "data": {
      "image/png": "[encoded data removed]",
      "text/plain": [
       "<Figure size 432x288 with 1 Axes>"
      ]
     },
     "metadata": {
      "tags": []
     },
     "output_type": "display_data"
    },
    {
     "data": {
      "image/png": "[encoded data removed]",
      "text/plain": [
       "<Figure size 432x288 with 1 Axes>"
      ]
     },
     "metadata": {
      "tags": []
     },
     "output_type": "display_data"
    }
   ],
   "source": [
    "perc1 = [99.0,99.1,99.2,99.3,99.4,99.5,99.6,99.7,99.8,99.9]\n",
    "perc2 = [0,10,20,30,40,50,60,70,80,90]\n",
    "\n",
    "\n",
    "val1 = []\n",
    "val2 = []\n",
    "\n",
    "for i in perc1:\n",
    "  val1.append(np.percentile(df_not_mis_inc['DebtRatio'],i))\n",
    "  \n",
    "for i in perc2:\n",
    "  val2.append(np.percentile(df_mis_inc['DebtRatio'],i))\n",
    "\n",
    "plt.plot(perc1,val1)\n",
    "plt.show()\n",
    "\n",
    "\n",
    "plt.plot(perc2,val2)\n",
    "plt.show()\n"
   ]
  },
  {
   "cell_type": "markdown",
   "metadata": {
    "colab_type": "text",
    "id": "ErdpTPXJbZtN"
   },
   "source": [
    "**Hence, it is clear that the DebtRatio of missing income subset has same distribution as top 1 percentile DebtRatio values of other subset**"
   ]
  },
  {
   "cell_type": "markdown",
   "metadata": {
    "colab_type": "text",
    "id": "xljUuQ19axOk"
   },
   "source": [
    "**Now let's explore how NumberOfDependents can help to replace missing values of MOnthlyIncome**"
   ]
  },
  {
   "cell_type": "code",
   "execution_count": 0,
   "metadata": {
    "colab": {
     "base_uri": "https://localhost:8080/",
     "height": 545
    },
    "colab_type": "code",
    "id": "V2_e9F0fRaXA",
    "outputId": "a51b6561-4c35-4a89-e1b3-08e509ab09f7"
   },
   "outputs": [
    {
     "data": {
      "image/png": "[encoded data removed]",
      "text/plain": [
       "<Figure size 432x288 with 1 Axes>"
      ]
     },
     "metadata": {
      "tags": []
     },
     "output_type": "display_data"
    },
    {
     "data": {
      "image/png": "[encoded data removed]",
      "text/plain": [
       "<Figure size 432x288 with 1 Axes>"
      ]
     },
     "metadata": {
      "tags": []
     },
     "output_type": "display_data"
    }
   ],
   "source": [
    "df_not_mis_inc.hist('NumberOfDependents')\n",
    "plt.xticks(np.arange(0, 20, 1));\n",
    "\n",
    "df_mis_inc.hist('NumberOfDependents')\n",
    "plt.xticks(np.arange(0, 20, 1));"
   ]
  },
  {
   "cell_type": "code",
   "execution_count": 0,
   "metadata": {
    "colab": {
     "base_uri": "https://localhost:8080/",
     "height": 306
    },
    "colab_type": "code",
    "id": "o5L1dT3Ch4sB",
    "outputId": "4e2ea022-7fcb-4a81-e195-bb35767ae001"
   },
   "outputs": [
    {
     "name": "stdout",
     "output_type": "stream",
     "text": [
      "0.0    21446\n",
      "1.0     1937\n",
      "2.0     1412\n",
      "3.0      738\n",
      "4.0      204\n",
      "5.0       57\n",
      "6.0        8\n",
      "7.0        2\n",
      "8.0        2\n",
      "9.0        1\n",
      "Name: NumberOfDependents, dtype: int64\n",
      "MonthlyIncome    5873.411467\n",
      "dtype: float64\n",
      "MonthlyIncome    7205.172361\n",
      "dtype: float64\n",
      "MonthlyIncome    7955.44194\n",
      "dtype: float64\n"
     ]
    }
   ],
   "source": [
    "print(df_mis_inc['NumberOfDependents'].value_counts())\n",
    "\n",
    "print(df_not_mis_inc.loc[df_not_mis_inc['NumberOfDependents'] == 0 , ['MonthlyIncome']].mean())\n",
    "print(df_not_mis_inc.loc[df_not_mis_inc['NumberOfDependents'] == 1 , ['MonthlyIncome']].mean())\n",
    "print(df_not_mis_inc.loc[df_not_mis_inc['NumberOfDependents'] > 1 , ['MonthlyIncome']].mean())\n",
    "      \n",
    "      \n",
    "#[['NumberOfDependents','MonthlyIncome']].corr())\n",
    "#print(df_mis_inc[['DebtRatio','MonthlyIncome']].corr()\n"
   ]
  },
  {
   "cell_type": "markdown",
   "metadata": {
    "colab_type": "text",
    "id": "E74IDVcgbA7t"
   },
   "source": [
    "**Clearly, the majority of the number of dependents is 0 in case of missing MonthlyIncome. We also explored how MonthlyIncome varies with NoOfDependents using the other subset.\n",
    "The difference is not of very high order as in the case of DebtRatio.\n",
    "Hence, we are deciding to impute missing MOnthlyIncome data based on top 1 percentile of DebtRatio**"
   ]
  },
  {
   "cell_type": "code",
   "execution_count": 0,
   "metadata": {
    "colab": {
     "base_uri": "https://localhost:8080/",
     "height": 34
    },
    "colab_type": "code",
    "id": "6imuwFgXG04l",
    "outputId": "29348ce9-343a-49ae-c5b7-49f40798169b"
   },
   "outputs": [
    {
     "data": {
      "text/plain": [
       "0.23916666666666667"
      ]
     },
     "execution_count": 136,
     "metadata": {
      "tags": []
     },
     "output_type": "execute_result"
    }
   ],
   "source": [
    "df_not_mis_inc.sort_values(by='DebtRatio',ascending=False)[0:1200]['MonthlyIncome'].mean()"
   ]
  },
  {
   "cell_type": "markdown",
   "metadata": {
    "colab_type": "text",
    "id": "U3wMQWZtbowy"
   },
   "source": [
    "**Hence, we will be replacing missing Income values with 0 (~0.239)**"
   ]
  },
  {
   "cell_type": "code",
   "execution_count": 0,
   "metadata": {
    "colab": {},
    "colab_type": "code",
    "id": "-C59HuKnmcmb"
   },
   "outputs": [],
   "source": [
    "df['MonthlyIncome'] = df['MonthlyIncome'].fillna(0)"
   ]
  },
  {
   "cell_type": "markdown",
   "metadata": {
    "colab_type": "text",
    "id": "m9bFbNQ4dEwV"
   },
   "source": [
    "**Now let's explore the missing values in NumberOfDependents**"
   ]
  },
  {
   "cell_type": "code",
   "execution_count": 0,
   "metadata": {
    "colab": {
     "base_uri": "https://localhost:8080/",
     "height": 334
    },
    "colab_type": "code",
    "id": "I1j612-gmciD",
    "outputId": "b55abb44-9b5e-4e92-bde8-62eac751f591"
   },
   "outputs": [
    {
     "data": {
      "text/html": [
       "<div>\n",
       "<style scoped>\n",
       "    .dataframe tbody tr th:only-of-type {\n",
       "        vertical-align: middle;\n",
       "    }\n",
       "\n",
       "    .dataframe tbody tr th {\n",
       "        vertical-align: top;\n",
       "    }\n",
       "\n",
       "    .dataframe thead th {\n",
       "        text-align: right;\n",
       "    }\n",
       "</style>\n",
       "<table border=\"1\" class=\"dataframe\">\n",
       "  <thead>\n",
       "    <tr style=\"text-align: right;\">\n",
       "      <th></th>\n",
       "      <th>Unnamed: 0</th>\n",
       "      <th>RevolvingUtilizationOfUnsecuredLines</th>\n",
       "      <th>age</th>\n",
       "      <th>NumberOfTime30-59DaysPastDueNotWorse</th>\n",
       "      <th>DebtRatio</th>\n",
       "      <th>MonthlyIncome</th>\n",
       "      <th>NumberOfOpenCreditLinesAndLoans</th>\n",
       "      <th>NumberOfTimes90DaysLate</th>\n",
       "      <th>NumberRealEstateLoansOrLines</th>\n",
       "      <th>NumberOfTime60-89DaysPastDueNotWorse</th>\n",
       "      <th>NumberOfDependents</th>\n",
       "    </tr>\n",
       "  </thead>\n",
       "  <tbody>\n",
       "    <tr>\n",
       "      <th>count</th>\n",
       "      <td>3924.000000</td>\n",
       "      <td>3924.000000</td>\n",
       "      <td>3924.000000</td>\n",
       "      <td>3924.000000</td>\n",
       "      <td>3924.000000</td>\n",
       "      <td>3924.0</td>\n",
       "      <td>3924.000000</td>\n",
       "      <td>3924.000000</td>\n",
       "      <td>3924.000000</td>\n",
       "      <td>3924.000000</td>\n",
       "      <td>0.0</td>\n",
       "    </tr>\n",
       "    <tr>\n",
       "      <th>mean</th>\n",
       "      <td>74510.281855</td>\n",
       "      <td>10.745132</td>\n",
       "      <td>59.588940</td>\n",
       "      <td>0.908257</td>\n",
       "      <td>1083.812181</td>\n",
       "      <td>0.0</td>\n",
       "      <td>5.604230</td>\n",
       "      <td>0.834608</td>\n",
       "      <td>0.590979</td>\n",
       "      <td>0.812181</td>\n",
       "      <td>NaN</td>\n",
       "    </tr>\n",
       "    <tr>\n",
       "      <th>std</th>\n",
       "      <td>43703.084554</td>\n",
       "      <td>237.699246</td>\n",
       "      <td>18.634168</td>\n",
       "      <td>8.679394</td>\n",
       "      <td>4186.731843</td>\n",
       "      <td>0.0</td>\n",
       "      <td>4.096353</td>\n",
       "      <td>8.679228</td>\n",
       "      <td>0.914455</td>\n",
       "      <td>8.678008</td>\n",
       "      <td>NaN</td>\n",
       "    </tr>\n",
       "    <tr>\n",
       "      <th>min</th>\n",
       "      <td>9.000000</td>\n",
       "      <td>0.000000</td>\n",
       "      <td>21.000000</td>\n",
       "      <td>0.000000</td>\n",
       "      <td>0.000000</td>\n",
       "      <td>0.0</td>\n",
       "      <td>0.000000</td>\n",
       "      <td>0.000000</td>\n",
       "      <td>0.000000</td>\n",
       "      <td>0.000000</td>\n",
       "      <td>NaN</td>\n",
       "    </tr>\n",
       "    <tr>\n",
       "      <th>25%</th>\n",
       "      <td>36006.500000</td>\n",
       "      <td>0.008474</td>\n",
       "      <td>48.000000</td>\n",
       "      <td>0.000000</td>\n",
       "      <td>21.000000</td>\n",
       "      <td>0.0</td>\n",
       "      <td>3.000000</td>\n",
       "      <td>0.000000</td>\n",
       "      <td>0.000000</td>\n",
       "      <td>0.000000</td>\n",
       "      <td>NaN</td>\n",
       "    </tr>\n",
       "    <tr>\n",
       "      <th>50%</th>\n",
       "      <td>74492.000000</td>\n",
       "      <td>0.047458</td>\n",
       "      <td>61.000000</td>\n",
       "      <td>0.000000</td>\n",
       "      <td>358.000000</td>\n",
       "      <td>0.0</td>\n",
       "      <td>5.000000</td>\n",
       "      <td>0.000000</td>\n",
       "      <td>0.000000</td>\n",
       "      <td>0.000000</td>\n",
       "      <td>NaN</td>\n",
       "    </tr>\n",
       "    <tr>\n",
       "      <th>75%</th>\n",
       "      <td>112734.000000</td>\n",
       "      <td>0.268155</td>\n",
       "      <td>74.000000</td>\n",
       "      <td>0.000000</td>\n",
       "      <td>1559.000000</td>\n",
       "      <td>0.0</td>\n",
       "      <td>8.000000</td>\n",
       "      <td>0.000000</td>\n",
       "      <td>1.000000</td>\n",
       "      <td>0.000000</td>\n",
       "      <td>NaN</td>\n",
       "    </tr>\n",
       "    <tr>\n",
       "      <th>max</th>\n",
       "      <td>149966.000000</td>\n",
       "      <td>10821.000000</td>\n",
       "      <td>109.000000</td>\n",
       "      <td>98.000000</td>\n",
       "      <td>220516.000000</td>\n",
       "      <td>0.0</td>\n",
       "      <td>30.000000</td>\n",
       "      <td>98.000000</td>\n",
       "      <td>15.000000</td>\n",
       "      <td>98.000000</td>\n",
       "      <td>NaN</td>\n",
       "    </tr>\n",
       "  </tbody>\n",
       "</table>\n",
       "</div>"
      ],
      "text/plain": [
       "          Unnamed: 0  ...  NumberOfDependents\n",
       "count    3924.000000  ...                 0.0\n",
       "mean    74510.281855  ...                 NaN\n",
       "std     43703.084554  ...                 NaN\n",
       "min         9.000000  ...                 NaN\n",
       "25%     36006.500000  ...                 NaN\n",
       "50%     74492.000000  ...                 NaN\n",
       "75%    112734.000000  ...                 NaN\n",
       "max    149966.000000  ...                 NaN\n",
       "\n",
       "[8 rows x 11 columns]"
      ]
     },
     "execution_count": 138,
     "metadata": {
      "tags": []
     },
     "output_type": "execute_result"
    }
   ],
   "source": [
    "df[df['NumberOfDependents'].isna()].describe()"
   ]
  },
  {
   "cell_type": "code",
   "execution_count": 0,
   "metadata": {
    "colab": {
     "base_uri": "https://localhost:8080/",
     "height": 334
    },
    "colab_type": "code",
    "id": "fjdzVXWMG01U",
    "outputId": "d9d3a009-f410-4bba-ddfd-7a6ea1e382c6"
   },
   "outputs": [
    {
     "data": {
      "text/html": [
       "<div>\n",
       "<style scoped>\n",
       "    .dataframe tbody tr th:only-of-type {\n",
       "        vertical-align: middle;\n",
       "    }\n",
       "\n",
       "    .dataframe tbody tr th {\n",
       "        vertical-align: top;\n",
       "    }\n",
       "\n",
       "    .dataframe thead th {\n",
       "        text-align: right;\n",
       "    }\n",
       "</style>\n",
       "<table border=\"1\" class=\"dataframe\">\n",
       "  <thead>\n",
       "    <tr style=\"text-align: right;\">\n",
       "      <th></th>\n",
       "      <th>Unnamed: 0</th>\n",
       "      <th>RevolvingUtilizationOfUnsecuredLines</th>\n",
       "      <th>age</th>\n",
       "      <th>NumberOfTime30-59DaysPastDueNotWorse</th>\n",
       "      <th>DebtRatio</th>\n",
       "      <th>MonthlyIncome</th>\n",
       "      <th>NumberOfOpenCreditLinesAndLoans</th>\n",
       "      <th>NumberOfTimes90DaysLate</th>\n",
       "      <th>NumberRealEstateLoansOrLines</th>\n",
       "      <th>NumberOfTime60-89DaysPastDueNotWorse</th>\n",
       "      <th>NumberOfDependents</th>\n",
       "    </tr>\n",
       "  </thead>\n",
       "  <tbody>\n",
       "    <tr>\n",
       "      <th>count</th>\n",
       "      <td>146076.000000</td>\n",
       "      <td>146076.000000</td>\n",
       "      <td>146076.000000</td>\n",
       "      <td>146076.000000</td>\n",
       "      <td>146076.000000</td>\n",
       "      <td>1.460760e+05</td>\n",
       "      <td>146076.000000</td>\n",
       "      <td>146076.000000</td>\n",
       "      <td>146076.000000</td>\n",
       "      <td>146076.000000</td>\n",
       "      <td>146076.000000</td>\n",
       "    </tr>\n",
       "    <tr>\n",
       "      <th>mean</th>\n",
       "      <td>75013.668597</td>\n",
       "      <td>5.922272</td>\n",
       "      <td>52.099277</td>\n",
       "      <td>0.407945</td>\n",
       "      <td>333.373603</td>\n",
       "      <td>5.491805e+03</td>\n",
       "      <td>8.529279</td>\n",
       "      <td>0.250698</td>\n",
       "      <td>1.029717</td>\n",
       "      <td>0.225027</td>\n",
       "      <td>0.757222</td>\n",
       "    </tr>\n",
       "    <tr>\n",
       "      <th>std</th>\n",
       "      <td>43290.647551</td>\n",
       "      <td>250.070774</td>\n",
       "      <td>14.604005</td>\n",
       "      <td>4.002747</td>\n",
       "      <td>1943.906679</td>\n",
       "      <td>1.329790e+04</td>\n",
       "      <td>5.149533</td>\n",
       "      <td>3.977197</td>\n",
       "      <td>1.132774</td>\n",
       "      <td>3.962048</td>\n",
       "      <td>1.115086</td>\n",
       "    </tr>\n",
       "    <tr>\n",
       "      <th>min</th>\n",
       "      <td>1.000000</td>\n",
       "      <td>0.000000</td>\n",
       "      <td>0.000000</td>\n",
       "      <td>0.000000</td>\n",
       "      <td>0.000000</td>\n",
       "      <td>0.000000e+00</td>\n",
       "      <td>0.000000</td>\n",
       "      <td>0.000000</td>\n",
       "      <td>0.000000</td>\n",
       "      <td>0.000000</td>\n",
       "      <td>0.000000</td>\n",
       "    </tr>\n",
       "    <tr>\n",
       "      <th>25%</th>\n",
       "      <td>37534.750000</td>\n",
       "      <td>0.031018</td>\n",
       "      <td>41.000000</td>\n",
       "      <td>0.000000</td>\n",
       "      <td>0.171764</td>\n",
       "      <td>1.957750e+03</td>\n",
       "      <td>5.000000</td>\n",
       "      <td>0.000000</td>\n",
       "      <td>0.000000</td>\n",
       "      <td>0.000000</td>\n",
       "      <td>0.000000</td>\n",
       "    </tr>\n",
       "    <tr>\n",
       "      <th>50%</th>\n",
       "      <td>75013.500000</td>\n",
       "      <td>0.158818</td>\n",
       "      <td>52.000000</td>\n",
       "      <td>0.000000</td>\n",
       "      <td>0.357751</td>\n",
       "      <td>4.500000e+03</td>\n",
       "      <td>8.000000</td>\n",
       "      <td>0.000000</td>\n",
       "      <td>1.000000</td>\n",
       "      <td>0.000000</td>\n",
       "      <td>0.000000</td>\n",
       "    </tr>\n",
       "    <tr>\n",
       "      <th>75%</th>\n",
       "      <td>112496.250000</td>\n",
       "      <td>0.563684</td>\n",
       "      <td>62.000000</td>\n",
       "      <td>0.000000</td>\n",
       "      <td>0.766117</td>\n",
       "      <td>7.500000e+03</td>\n",
       "      <td>11.000000</td>\n",
       "      <td>0.000000</td>\n",
       "      <td>2.000000</td>\n",
       "      <td>0.000000</td>\n",
       "      <td>1.000000</td>\n",
       "    </tr>\n",
       "    <tr>\n",
       "      <th>max</th>\n",
       "      <td>150000.000000</td>\n",
       "      <td>50708.000000</td>\n",
       "      <td>107.000000</td>\n",
       "      <td>98.000000</td>\n",
       "      <td>329664.000000</td>\n",
       "      <td>3.008750e+06</td>\n",
       "      <td>58.000000</td>\n",
       "      <td>98.000000</td>\n",
       "      <td>54.000000</td>\n",
       "      <td>98.000000</td>\n",
       "      <td>20.000000</td>\n",
       "    </tr>\n",
       "  </tbody>\n",
       "</table>\n",
       "</div>"
      ],
      "text/plain": [
       "          Unnamed: 0  ...  NumberOfDependents\n",
       "count  146076.000000  ...       146076.000000\n",
       "mean    75013.668597  ...            0.757222\n",
       "std     43290.647551  ...            1.115086\n",
       "min         1.000000  ...            0.000000\n",
       "25%     37534.750000  ...            0.000000\n",
       "50%     75013.500000  ...            0.000000\n",
       "75%    112496.250000  ...            1.000000\n",
       "max    150000.000000  ...           20.000000\n",
       "\n",
       "[8 rows x 11 columns]"
      ]
     },
     "execution_count": 139,
     "metadata": {
      "tags": []
     },
     "output_type": "execute_result"
    }
   ],
   "source": [
    "\n",
    "df[df['NumberOfDependents'].notna()].describe()"
   ]
  },
  {
   "cell_type": "markdown",
   "metadata": {
    "colab_type": "text",
    "id": "AHu3wdusdNFZ"
   },
   "source": [
    "**Distribution of all vars is same for the rows having missing NumberOfDependents var.\n",
    "Hence, we are deciding to impute the missing value by median**"
   ]
  },
  {
   "cell_type": "code",
   "execution_count": 0,
   "metadata": {
    "colab": {
     "base_uri": "https://localhost:8080/",
     "height": 255
    },
    "colab_type": "code",
    "id": "VEQSQAz9W1tn",
    "outputId": "afb081d0-bec0-4a28-b15b-268ffed132b9"
   },
   "outputs": [
    {
     "name": "stdout",
     "output_type": "stream",
     "text": [
      "0.0     86902\n",
      "1.0     26316\n",
      "2.0     19522\n",
      "3.0      9483\n",
      "4.0      2862\n",
      "5.0       746\n",
      "6.0       158\n",
      "7.0        51\n",
      "8.0        24\n",
      "9.0         5\n",
      "10.0        5\n",
      "13.0        1\n",
      "20.0        1\n",
      "Name: NumberOfDependents, dtype: int64\n"
     ]
    }
   ],
   "source": [
    "#We see a lot of 0's and 1's. It makes sense to replace missing values as 0s\n",
    "print(df['NumberOfDependents'].value_counts())\n",
    "df['NumberOfDependents'] = df['NumberOfDependents'].fillna(0) \n",
    "#Now we have got rid of missing values"
   ]
  },
  {
   "cell_type": "markdown",
   "metadata": {
    "colab_type": "text",
    "id": "g-gENbcqdm_6"
   },
   "source": [
    "**Now let's check for outliers**"
   ]
  },
  {
   "cell_type": "code",
   "execution_count": 0,
   "metadata": {
    "colab": {
     "base_uri": "https://localhost:8080/",
     "height": 204
    },
    "colab_type": "code",
    "id": "5ESZVfcIO4n9",
    "outputId": "ec7282f9-2531-4f39-ef6e-19e6d1f8d862"
   },
   "outputs": [
    {
     "name": "stdout",
     "output_type": "stream",
     "text": [
      "NumberOfTimes90DaysLate                   int64\n",
      "MonthlyIncome                           float64\n",
      "NumberRealEstateLoansOrLines              int64\n",
      "NumberOfTime60-89DaysPastDueNotWorse      int64\n",
      "NumberOfDependents                      float64\n",
      "RevolvingUtilizationOfUnsecuredLines    float64\n",
      "NumberOfOpenCreditLinesAndLoans           int64\n",
      "DebtRatio                               float64\n",
      "NumberOfTime30-59DaysPastDueNotWorse      int64\n",
      "age                                       int64\n",
      "dtype: object\n"
     ]
    }
   ],
   "source": [
    "df1=df[:]\n",
    "#print(df1.dtypes)\n",
    "#df1.drop(['Unnamed: 0','SeriousDlqin2yrs'], axis = 1)                        \n",
    "df1=df1[list(set(df.columns)-set(['Unnamed: 0','SeriousDlqin2yrs']))]\n",
    "#print(df.dtypes)\n",
    "print(df1.dtypes)\n"
   ]
  },
  {
   "cell_type": "markdown",
   "metadata": {
    "colab_type": "text",
    "id": "ypsZPHLdd2rK"
   },
   "source": [
    "**Using the boxplot method to detect ooutliers**"
   ]
  },
  {
   "cell_type": "code",
   "execution_count": 0,
   "metadata": {
    "colab": {},
    "colab_type": "code",
    "id": "3iBADiKEO4oA"
   },
   "outputs": [],
   "source": [
    "cols = df1.columns\n",
    "for i in cols:\n",
    "  Low_Bound = ((np.percentile(df[i],25)) - 1.5*np.subtract(*np.percentile(df[i],[75,25])))\n",
    "  Upp_Bound = ((np.percentile(df[i],75)) + 1.5*np.subtract(*np.percentile(df[i],[75,25])))\n",
    "  df1[i] = df[i].apply(lambda x : 1 if(x < Low_Bound or x > Upp_Bound) else 0 )\n",
    "\n",
    "\n"
   ]
  },
  {
   "cell_type": "code",
   "execution_count": 0,
   "metadata": {
    "colab": {
     "base_uri": "https://localhost:8080/",
     "height": 204
    },
    "colab_type": "code",
    "id": "HCE3N-fRO4oE",
    "outputId": "cc454d0c-42ab-4a67-995f-c73ed991d379"
   },
   "outputs": [
    {
     "name": "stdout",
     "output_type": "stream",
     "text": [
      "NumberOfTimes90DaysLate                  8338\n",
      "MonthlyIncome                            4264\n",
      "NumberRealEstateLoansOrLines              793\n",
      "NumberOfTime60-89DaysPastDueNotWorse     7604\n",
      "NumberOfDependents                      13336\n",
      "RevolvingUtilizationOfUnsecuredLines      763\n",
      "NumberOfOpenCreditLinesAndLoans          3980\n",
      "DebtRatio                               31311\n",
      "NumberOfTime30-59DaysPastDueNotWorse    23982\n",
      "age                                        46\n",
      "dtype: int64\n"
     ]
    }
   ],
   "source": [
    "#print(df1.dtypes)\n",
    "#print(df1.columns)\n",
    "print(df1.sum(axis = 0, skipna = True))\n",
    "\n"
   ]
  },
  {
   "cell_type": "markdown",
   "metadata": {
    "colab_type": "text",
    "id": "golv_x68eUZV"
   },
   "source": [
    "**There are lots of outliers in each var**"
   ]
  },
  {
   "cell_type": "code",
   "execution_count": 0,
   "metadata": {
    "colab": {},
    "colab_type": "code",
    "id": "k_b_Zz3AO4oH"
   },
   "outputs": [],
   "source": [
    "miss_any_rows = (df1.sum(axis = 1, skipna = True))"
   ]
  },
  {
   "cell_type": "code",
   "execution_count": 0,
   "metadata": {
    "colab": {
     "base_uri": "https://localhost:8080/",
     "height": 51
    },
    "colab_type": "code",
    "id": "T2DY8nIZO4oN",
    "outputId": "4d21ed9f-e588-425d-c5f0-949876fe6342"
   },
   "outputs": [
    {
     "name": "stdout",
     "output_type": "stream",
     "text": [
      "70536\n",
      "0.47024\n"
     ]
    }
   ],
   "source": [
    "#type(miss_any_rows)\n",
    "miss_any_rows = miss_any_rows.apply(lambda x : 1 if x>0 else 0)\n",
    "print(sum(miss_any_rows))\n",
    "print(sum(miss_any_rows)/df.shape[0])\n"
   ]
  },
  {
   "cell_type": "markdown",
   "metadata": {
    "colab_type": "text",
    "id": "F5gUVI5UeZH1"
   },
   "source": [
    "Hence, overall, we have ~47% datatpoints having one or more outliers.\n",
    "We can't remove this much data.\n",
    "Hence, let's just loook at the vars having strong correlation with our dependent var**"
   ]
  },
  {
   "cell_type": "code",
   "execution_count": 0,
   "metadata": {
    "colab": {},
    "colab_type": "code",
    "id": "4MvZGb2W_xT9"
   },
   "outputs": [],
   "source": [
    "#np.abs(corr.SeriousDlqin2yrs).sort_values(ascending=False)\n"
   ]
  },
  {
   "cell_type": "code",
   "execution_count": 0,
   "metadata": {
    "colab": {
     "base_uri": "https://localhost:8080/",
     "height": 374
    },
    "colab_type": "code",
    "id": "agla3VWwA0sg",
    "outputId": "1770798a-7c89-419e-b323-69e83e8c308c"
   },
   "outputs": [
    {
     "name": "stdout",
     "output_type": "stream",
     "text": [
      "NumberOfTime30-59DaysPastDueNotWorse    int64\n",
      "NumberOfTimes90DaysLate                 int64\n",
      "age                                     int64\n",
      "NumberOfTime60-89DaysPastDueNotWorse    int64\n",
      "dtype: object\n",
      "        NumberOfTime30-59DaysPastDueNotWorse  ...  NumberOfTime60-89DaysPastDueNotWorse\n",
      "0                                          1  ...                                     0\n",
      "1                                          0  ...                                     0\n",
      "2                                          1  ...                                     0\n",
      "3                                          0  ...                                     0\n",
      "4                                          1  ...                                     0\n",
      "...                                      ...  ...                                   ...\n",
      "149995                                     0  ...                                     0\n",
      "149996                                     0  ...                                     0\n",
      "149997                                     0  ...                                     0\n",
      "149998                                     0  ...                                     0\n",
      "149999                                     0  ...                                     0\n",
      "\n",
      "[150000 rows x 4 columns]\n",
      "30402\n",
      "0.20268\n"
     ]
    }
   ],
   "source": [
    "df2 = df1[['NumberOfTime30-59DaysPastDueNotWorse','NumberOfTimes90DaysLate','age','NumberOfTime60-89DaysPastDueNotWorse']]\n",
    "print(df2.dtypes)\n",
    "print(df2)\n",
    "miss_any_rows = (df2.sum(axis = 1, skipna = True))\n",
    "miss_any_rows = miss_any_rows.apply(lambda x : 1 if x>0 else 0)\n",
    "print(sum(miss_any_rows))\n",
    "print(sum(miss_any_rows)/df.shape[0])"
   ]
  },
  {
   "cell_type": "code",
   "execution_count": 0,
   "metadata": {
    "colab": {
     "base_uri": "https://localhost:8080/",
     "height": 102
    },
    "colab_type": "code",
    "id": "aWQ7vg3TA0o9",
    "outputId": "2fd34d31-bcfa-450b-dd11-5725b0ddfe53"
   },
   "outputs": [
    {
     "data": {
      "text/plain": [
       "NumberOfTime30-59DaysPastDueNotWorse    23982\n",
       "NumberOfTimes90DaysLate                  8338\n",
       "age                                        46\n",
       "NumberOfTime60-89DaysPastDueNotWorse     7604\n",
       "dtype: int64"
      ]
     },
     "execution_count": 147,
     "metadata": {
      "tags": []
     },
     "output_type": "execute_result"
    }
   ],
   "source": [
    "(df2.sum(axis = 0, skipna = True))"
   ]
  },
  {
   "cell_type": "markdown",
   "metadata": {
    "colab_type": "text",
    "id": "vW8bbBnEexOu"
   },
   "source": [
    "**Still we have 20% data to be removed. We won't do that**"
   ]
  },
  {
   "cell_type": "markdown",
   "metadata": {
    "colab_type": "text",
    "id": "4YSsQMw5e-LA"
   },
   "source": [
    "**Let's now look at distribution of all vars**"
   ]
  },
  {
   "cell_type": "code",
   "execution_count": 1,
   "metadata": {
    "colab": {
     "base_uri": "https://localhost:8080/",
     "height": 935
    },
    "colab_type": "code",
    "id": "sJScS65rO4oa",
    "outputId": "0295958f-7c1f-4c36-b551-3c68ebf2ff2d"
   },
   "outputs": [],
   "source": [
    "print(df['NumberOfTime30-59DaysPastDueNotWorse'].nunique())\n",
    "print(df['NumberOfTime30-59DaysPastDueNotWorse'].value_counts().sort_index())\n",
    "             \n",
    "print(df['NumberOfTimes90DaysLate'].nunique())\n",
    "print(df['NumberOfTimes90DaysLate'].value_counts().sort_index())\n",
    "\n",
    "print(df['NumberOfTime60-89DaysPastDueNotWorse'].nunique())\n",
    "print(df['NumberOfTime60-89DaysPastDueNotWorse'].value_counts().sort_index())\n"
   ]
  },
  {
   "cell_type": "markdown",
   "metadata": {
    "colab_type": "text",
    "id": "WpM6NesTfKPp"
   },
   "source": [
    "**Capping as required**"
   ]
  },
  {
   "cell_type": "code",
   "execution_count": 0,
   "metadata": {
    "colab": {},
    "colab_type": "code",
    "id": "p9oOmqHFr_MJ"
   },
   "outputs": [],
   "source": [
    "df.loc[df['NumberOfTime30-59DaysPastDueNotWorse']>20,'NumberOfTime30-59DaysPastDueNotWorse'] = 20\n",
    "df.loc[df['NumberOfTimes90DaysLate']>20,'NumberOfTimes90DaysLate'] = 20\n",
    "df.loc[df['NumberOfTime60-89DaysPastDueNotWorse']>20,'NumberOfTime60-89DaysPastDueNotWorse'] = 20"
   ]
  },
  {
   "cell_type": "code",
   "execution_count": 2,
   "metadata": {
    "colab": {
     "base_uri": "https://localhost:8080/",
     "height": 1000
    },
    "colab_type": "code",
    "id": "NGrNUOfol5ox",
    "outputId": "2ee35b70-ab90-44c5-d27c-579c21fb71f1"
   },
   "outputs": [],
   "source": [
    "print(df['NumberRealEstateLoansOrLines'].nunique())\n",
    "print(df['NumberRealEstateLoansOrLines'].value_counts().sort_index())\n",
    "             \n",
    "print(df['age'].nunique())\n",
    "print(df['age'].value_counts().sort_index())\n",
    "\n",
    "print(df['NumberOfDependents'].nunique())\n",
    "print(df['NumberOfDependents'].value_counts().sort_index())\n",
    "\n",
    "print(df['NumberOfOpenCreditLinesAndLoans'].nunique())\n",
    "print(df['NumberOfOpenCreditLinesAndLoans'].value_counts().sort_index())"
   ]
  },
  {
   "cell_type": "markdown",
   "metadata": {
    "colab_type": "text",
    "id": "ZDaRX9NsfVy_"
   },
   "source": [
    "**Capping as required**"
   ]
  },
  {
   "cell_type": "code",
   "execution_count": 0,
   "metadata": {
    "colab": {},
    "colab_type": "code",
    "id": "tjnUBMaktlji"
   },
   "outputs": [],
   "source": [
    "df.loc[df['NumberRealEstateLoansOrLines']>30,'NumberRealEstateLoansOrLines'] = 30\n",
    "df.loc[df['NumberOfOpenCreditLinesAndLoans']>40,'NumberOfOpenCreditLinesAndLoans'] = 40\n"
   ]
  },
  {
   "cell_type": "markdown",
   "metadata": {
    "colab_type": "text",
    "id": "muqVJLqffhbU"
   },
   "source": [
    "**Now, let's look at distribution of the remaining 3 continuour vars**"
   ]
  },
  {
   "cell_type": "code",
   "execution_count": 0,
   "metadata": {
    "colab": {
     "base_uri": "https://localhost:8080/",
     "height": 694
    },
    "colab_type": "code",
    "id": "5rbZAQ_O3iko",
    "outputId": "4ad248da-1d50-460b-ace6-b533b32f29e3"
   },
   "outputs": [
    {
     "data": {
      "text/plain": [
       "[<matplotlib.lines.Line2D at 0x7f7886cd9ef0>]"
      ]
     },
     "execution_count": 152,
     "metadata": {
      "tags": []
     },
     "output_type": "execute_result"
    },
    {
     "data": {
      "image/png": "[encoded data removed]",
      "text/plain": [
       "<Figure size 1080x720 with 6 Axes>"
      ]
     },
     "metadata": {
      "tags": []
     },
     "output_type": "display_data"
    }
   ],
   "source": [
    "varNames = ['RevolvingUtilizationOfUnsecuredLines', 'DebtRatio', 'MonthlyIncome']\n",
    "\n",
    "import matplotlib.pyplot as plt\n",
    "import numpy as np\n",
    "from statsmodels.distributions.empirical_distribution import ECDF\n",
    "def visualizeECDF( variable,data):\n",
    "    df = data[:] \n",
    "    ecdf = ECDF(df[variable])\n",
    "    x = np.linspace(min(df[variable]), np.percentile(df[variable],99.5))\n",
    "    y = ecdf(x)\n",
    "    plt.step(x, y)\n",
    "\n",
    "np.random.seed(100)\n",
    "fig, axes = plt.subplots(nrows=3, ncols=2)\n",
    "fig.tight_layout()\n",
    "fig.set_figheight(10)\n",
    "fig.set_figwidth(15)\n",
    "\n",
    "plt.subplots_adjust(hspace=0.5)\n",
    "\n",
    "ax = plt.subplot(3,2,1)\n",
    "ax.set_title(varNames[0])\n",
    "visualizeECDF(varNames[0], data = df)\n",
    "\n",
    "\n",
    "perc = [97.5,98,98.5,99,99.5,100]\n",
    "val = []\n",
    "for i in perc:\n",
    "  val.append(np.percentile(df['RevolvingUtilizationOfUnsecuredLines'],i ))\n",
    "ax = plt.subplot(3,2,2)\n",
    "ax.set_title(varNames[0])\n",
    "plt.plot(perc, val, 'go--', linewidth=2, markersize=12)\n",
    "\n",
    "\n",
    "\n",
    "ax = plt.subplot(3,2,3)\n",
    "ax.set_title(varNames[1])\n",
    "visualizeECDF(varNames[1], data = df)\n",
    "\n",
    "\n",
    "perc = [97.5,98,98.5,99,99.5,100]\n",
    "val = []\n",
    "for i in perc:\n",
    "  val.append(np.percentile(df['DebtRatio'],i ))\n",
    "ax = plt.subplot(3,2,4)\n",
    "ax.set_title(varNames[1])\n",
    "plt.plot(perc, val, 'go--', linewidth=2, markersize=12)\n",
    "\n",
    "\n",
    "\n",
    "ax = plt.subplot(3,2,5)\n",
    "ax.set_title(varNames[2])\n",
    "visualizeECDF(varNames[2], data = df)\n",
    "\n",
    "\n",
    "perc = [97.5,98,98.5,99,99.5,100]\n",
    "val = []\n",
    "for i in perc:\n",
    "  val.append(np.percentile(df['MonthlyIncome'],i ))\n",
    "ax = plt.subplot(3,2,6)\n",
    "ax.set_title(varNames[2])\n",
    "plt.plot(perc, val, 'go--', linewidth=2, markersize=12)\n"
   ]
  },
  {
   "cell_type": "code",
   "execution_count": 0,
   "metadata": {
    "colab": {
     "base_uri": "https://localhost:8080/",
     "height": 694
    },
    "colab_type": "code",
    "id": "AIDtNiw-Im_b",
    "outputId": "dbd6c27e-f6d7-4052-f79d-e76afe565443"
   },
   "outputs": [
    {
     "data": {
      "text/plain": [
       "[<matplotlib.lines.Line2D at 0x7f78867492e8>]"
      ]
     },
     "execution_count": 153,
     "metadata": {
      "tags": []
     },
     "output_type": "execute_result"
    },
    {
     "data": {
      "image/png": "[encoded data removed]",
      "text/plain": [
       "<Figure size 1080x720 with 9 Axes>"
      ]
     },
     "metadata": {
      "tags": []
     },
     "output_type": "display_data"
    }
   ],
   "source": [
    "varNames = ['RevolvingUtilizationOfUnsecuredLines', 'DebtRatio', 'MonthlyIncome']\n",
    "\n",
    "import matplotlib.pyplot as plt\n",
    "import numpy as np\n",
    "from statsmodels.distributions.empirical_distribution import ECDF\n",
    "def visualizeECDF( variable,data):\n",
    "    df = data[:] \n",
    "    ecdf = ECDF(df[variable])\n",
    "    x = np.linspace(min(df[variable]), np.percentile(df[variable],99.5))\n",
    "    y = ecdf(x)\n",
    "    plt.step(x, y)\n",
    "\n",
    "np.random.seed(100)\n",
    "fig, axes = plt.subplots(nrows=3, ncols=3)\n",
    "fig.tight_layout()\n",
    "fig.set_figheight(10)\n",
    "fig.set_figwidth(15)\n",
    "\n",
    "plt.subplots_adjust(hspace=0.5)\n",
    "\n",
    "ax = plt.subplot(3,3,1)\n",
    "ax.set_title(varNames[0])\n",
    "visualizeECDF(varNames[0], data = df)\n",
    "\n",
    "\n",
    "perc = [97.5,98,98.5,99,99.5,100]\n",
    "val = []\n",
    "for i in perc:\n",
    "  val.append(np.percentile(df['RevolvingUtilizationOfUnsecuredLines'],i ))\n",
    "ax = plt.subplot(3,3,2)\n",
    "ax.set_title(varNames[0])\n",
    "plt.plot(perc, val, 'go--', linewidth=2, markersize=12)\n",
    "\n",
    "\n",
    "perc = [99.5,99.6,99.7,99.8,99.9,100]\n",
    "val = []\n",
    "for i in perc:\n",
    "  val.append(np.percentile(df['RevolvingUtilizationOfUnsecuredLines'],i ))\n",
    "ax = plt.subplot(3,3,3)\n",
    "ax.set_title(varNames[0])\n",
    "plt.plot(perc, val, 'go--', linewidth=2, markersize=12)\n",
    "\n",
    "\n",
    "\n",
    "ax = plt.subplot(3,3,4)\n",
    "ax.set_title(varNames[1])\n",
    "visualizeECDF(varNames[1], data = df)\n",
    "\n",
    "\n",
    "perc = [97.5,98,98.5,99,99.5,100]\n",
    "val = []\n",
    "for i in perc:\n",
    "  val.append(np.percentile(df['DebtRatio'],i ))\n",
    "ax = plt.subplot(3,3,5)\n",
    "ax.set_title(varNames[1])\n",
    "plt.plot(perc, val, 'go--', linewidth=2, markersize=12)\n",
    "\n",
    "perc = [99.5,99.6,99.7,99.8,99.9,100]\n",
    "val = []\n",
    "for i in perc:\n",
    "  val.append(np.percentile(df['DebtRatio'],i ))\n",
    "ax = plt.subplot(3,3,6)\n",
    "ax.set_title(varNames[0])\n",
    "plt.plot(perc, val, 'go--', linewidth=2, markersize=12)\n",
    "\n",
    "\n",
    "\n",
    "\n",
    "ax = plt.subplot(3,3,7)\n",
    "ax.set_title(varNames[2])\n",
    "visualizeECDF(varNames[2], data = df)\n",
    "\n",
    "\n",
    "perc = [97.5,98,98.5,99,99.5,100]\n",
    "val = []\n",
    "for i in perc:\n",
    "  val.append(np.percentile(df['MonthlyIncome'],i ))\n",
    "ax = plt.subplot(3,3,8)\n",
    "ax.set_title(varNames[2])\n",
    "plt.plot(perc, val, 'go--', linewidth=2, markersize=12)\n",
    "\n",
    "perc = [99.5,99.6,99.7,99.8,99.9,100]\n",
    "val = []\n",
    "for i in perc:\n",
    "  val.append(np.percentile(df['MonthlyIncome'],i ))\n",
    "ax = plt.subplot(3,3,9)\n",
    "ax.set_title(varNames[0])\n",
    "plt.plot(perc, val, 'go--', linewidth=2, markersize=12)\n"
   ]
  },
  {
   "cell_type": "markdown",
   "metadata": {
    "colab_type": "text",
    "id": "riY19KBRKv-k"
   },
   "source": [
    "**Let's check out the values of the three vars for 99.5 percentile and 99.9 percentile**"
   ]
  },
  {
   "cell_type": "code",
   "execution_count": 0,
   "metadata": {
    "colab": {
     "base_uri": "https://localhost:8080/",
     "height": 119
    },
    "colab_type": "code",
    "id": "iwj7yPGmJUTO",
    "outputId": "018fcba8-bf8c-4ed9-a101-d0627f0a6300"
   },
   "outputs": [
    {
     "name": "stdout",
     "output_type": "stream",
     "text": [
      "1.366269304065009\n",
      "6186.010000000009\n",
      "31250.0\n",
      "1571.0060000001104\n",
      "10613.074000001361\n",
      "72759.15700000289\n"
     ]
    }
   ],
   "source": [
    "print(np.percentile(df['RevolvingUtilizationOfUnsecuredLines'],99.5))\n",
    "print(np.percentile(df['DebtRatio'],99.5))\n",
    "print(np.percentile(df['MonthlyIncome'],99.5))\n",
    "\n",
    "print(np.percentile(df['RevolvingUtilizationOfUnsecuredLines'],99.9))\n",
    "print(np.percentile(df['DebtRatio'],99.9))\n",
    "print(np.percentile(df['MonthlyIncome'],99.9))"
   ]
  },
  {
   "cell_type": "markdown",
   "metadata": {
    "colab_type": "text",
    "id": "CwdspkMFK4xq"
   },
   "source": [
    "**After  checking these values, we decided that RevolvingUtilizationOfUnsecuredLines, MonthlyIncome and DebtRatio should be capped at 99.5 percentile only as 99.9 percentile values are too high and meaningless.**"
   ]
  },
  {
   "cell_type": "code",
   "execution_count": 0,
   "metadata": {
    "colab": {
     "base_uri": "https://localhost:8080/",
     "height": 68
    },
    "colab_type": "code",
    "id": "UVjAnpJW_w82",
    "outputId": "bc910484-c460-46bd-d2ee-cc2d607b71f1"
   },
   "outputs": [
    {
     "name": "stdout",
     "output_type": "stream",
     "text": [
      "1.366269304065009\n",
      "6186.010000000009\n",
      "31250.0\n"
     ]
    }
   ],
   "source": [
    "\n",
    "var1_cap = np.percentile(df['RevolvingUtilizationOfUnsecuredLines'],99.5)\n",
    "var2_cap = np.percentile(df['DebtRatio'],99.5)\n",
    "var3_cap = np.percentile(df['MonthlyIncome'],99.5)\n",
    "print(var1_cap)\n",
    "print(var2_cap)\n",
    "print(var3_cap)\n",
    "\n",
    "\n",
    "df['RevolvingUtilizationOfUnsecuredLines'] = df['RevolvingUtilizationOfUnsecuredLines'].apply(lambda x : x if x<=var1_cap else var1_cap)\n",
    "df['DebtRatio'] = df['DebtRatio'].apply(lambda x : x if x<=var2_cap else var2_cap)\n",
    "df['MonthlyIncome'] = df['MonthlyIncome'].apply(lambda x : x if x<=var3_cap else var3_cap)\n",
    "\n"
   ]
  },
  {
   "cell_type": "code",
   "execution_count": 0,
   "metadata": {
    "colab": {
     "base_uri": "https://localhost:8080/",
     "height": 371
    },
    "colab_type": "code",
    "id": "epra4QiD-LVc",
    "outputId": "d5d31384-be8f-4148-dbb7-36fee45ab109"
   },
   "outputs": [
    {
     "data": {
      "image/png": "[encoded data removed]",
      "text/plain": [
       "<Figure size 1080x360 with 2 Axes>"
      ]
     },
     "metadata": {
      "tags": []
     },
     "output_type": "display_data"
    }
   ],
   "source": [
    "\n",
    "\n",
    "import matplotlib.pyplot as plt\n",
    "import numpy as np\n",
    "from statsmodels.distributions.empirical_distribution import ECDF\n",
    "def visualizeECDF( variable,data):\n",
    "    df = data[:] \n",
    "    ecdf = ECDF(df[variable])\n",
    "    x = np.linspace(min(df[variable]), np.percentile(df[variable],99.5))\n",
    "    y = ecdf(x)\n",
    "    plt.step(x, y)\n",
    "\n",
    "np.random.seed(100)\n",
    "fig, axes = plt.subplots(nrows=1, ncols=2)\n",
    "fig.tight_layout()\n",
    "fig.set_figheight(5)\n",
    "fig.set_figwidth(15)\n",
    "\n",
    "plt.subplots_adjust(hspace=0.5)\n",
    "\n",
    "ax = plt.subplot(1,2,1)\n",
    "ax.set_title('DebtRatio')\n",
    "visualizeECDF('DebtRatio', data = df)\n",
    "\n",
    "\n",
    "df['DebtRatio'] = np.log(df['DebtRatio']+1)\n",
    "\n",
    "\n",
    "ax = plt.subplot(1,2,2)\n",
    "ax.set_title('DebtRatio')\n",
    "visualizeECDF('DebtRatio', data = df)\n"
   ]
  },
  {
   "cell_type": "code",
   "execution_count": 0,
   "metadata": {
    "colab": {},
    "colab_type": "code",
    "id": "Eyl9zMMvPHdm"
   },
   "outputs": [],
   "source": [
    "df.to_csv('cleaned_all.csv')"
   ]
  }
 ],
 "metadata": {
  "colab": {
   "collapsed_sections": [],
   "name": "Copy of preprocessing.ipynb",
   "provenance": []
  },
  "kernelspec": {
   "display_name": "Python 3",
   "language": "python",
   "name": "python3"
  },
  "language_info": {
   "codemirror_mode": {
    "name": "ipython",
    "version": 3
   },
   "file_extension": ".py",
   "mimetype": "text/x-python",
   "name": "python",
   "nbconvert_exporter": "python",
   "pygments_lexer": "ipython3",
   "version": "3.7.3"
  }
 },
 "nbformat": 4,
 "nbformat_minor": 1
}
